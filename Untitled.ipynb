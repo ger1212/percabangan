{
 "cells": [
  {
   "cell_type": "code",
   "execution_count": 3,
   "id": "0d642905",
   "metadata": {},
   "outputs": [
    {
     "name": "stdout",
     "output_type": "stream",
     "text": [
      "isikan nilai:8\n",
      "8 adalah bilangan genap\n",
      "program selesai\n"
     ]
    }
   ],
   "source": [
    "#menentukan bilangan ganjuil genap\n",
    "nilai = int(input('isikan nilai:'))\n",
    "sisa_bagi = nilai % 2\n",
    "\n",
    "if sisa_bagi==0:\n",
    "    print(f'{nilai} adalah bilangan genap')\n",
    "else :\n",
    "    print(f'{nilai} adalah bilangan ganjil')\n",
    "print('program selesai')    \n"
   ]
  },
  {
   "cell_type": "code",
   "execution_count": 12,
   "id": "32c75439",
   "metadata": {},
   "outputs": [
    {
     "name": "stdout",
     "output_type": "stream",
     "text": [
      "hasil nilai85\n",
      "maaf nilai anda kurang\n"
     ]
    }
   ],
   "source": [
    "# 0 - 49 => e\n",
    "# 50 - 59 => d\n",
    "# 60 - 69 => c\n",
    "# 70 - 84 => b\n",
    "# 85 - 100 => a\n",
    "\n",
    "\n",
    "hasil_nilai = int(input('hasil nilai'))\n",
    "\n",
    "if hasil_nilai <50:\n",
    "    print(\"e\")\n",
    "elif hasil_nilai <60:\n",
    "    print(\"d\")\n",
    "elif hasil_nilai <70:\n",
    "    print(\"c\")\n",
    "elif hasil_nilai <85:\n",
    "    print(\"b\")\n",
    "    \n",
    "else:\n",
    "    print(\"maaf nilai anda kurang\")\n",
    "    \n"
   ]
  },
  {
   "cell_type": "code",
   "execution_count": 25,
   "id": "2b9bccdb",
   "metadata": {},
   "outputs": [
    {
     "name": "stdout",
     "output_type": "stream",
     "text": [
      "isikan usernameadmin\n",
      "isikan passwordadmin\n",
      "selamat datangadmin\n"
     ]
    }
   ],
   "source": [
    "username = input('isikan username')\n",
    "password = input('isikan password')\n",
    "\n",
    "#jika username salah => username anda salah\n",
    "#jika password salah => password anda salah\n",
    "#jika keduanya salah => username dan password anda salah\n",
    "#jika keduanya benar => selamat datang {username}\n",
    "#username: admin\n",
    "#password: admin\n",
    "\n",
    "if username == 'admin':\n",
    "    if password=='admin':\n",
    "        print(f'selamat datang{username}')\n",
    "    else : \n",
    "        print(f'password anda salah')\n",
    "\n",
    "else:\n",
    "    if password == 'admin':\n",
    "        print(\"username anda salah\")\n",
    "    else:\n",
    "        print(\"username dan passowrd anda salah\")"
   ]
  },
  {
   "cell_type": "code",
   "execution_count": 27,
   "id": "1eda2545",
   "metadata": {},
   "outputs": [
    {
     "name": "stdout",
     "output_type": "stream",
     "text": [
      "masukan nama:aksa\n",
      "isikan umur:20\n",
      "masukan_tempat_tinggal:sukabumio\n",
      "masukan_uang_uang_tabungan:10\n",
      "aksa tidaj mencurigakan\n"
     ]
    }
   ],
   "source": [
    "nama = input('masukan nama:')\n",
    "umur = int(input('isikan umur:'))\n",
    "alamat = input('masukan_tempat_tinggal:')\n",
    "uang_uang_tabungan = int(input('masukan_uang_uang_tabungan:'))\n",
    "pangkat=''\n",
    "\n",
    "if umur >40:\n",
    "    if alamat == 'New york' or alamat =='Nevada' or alamat=='Havana':\n",
    "         if uang_tabungan > 10:\n",
    "            pangkat = 'don'\n",
    "elif umur >=25 and umur <= 40 :\n",
    "     if alamat == 'New Jersey' or alamat =='Manhattan' or alamat=='Nevada':\n",
    "        if uang_tabungan > 0 and uang_tabungan <=2:  \n",
    "            pangkat ='underboss'\n",
    "elif umur >=18 and umur <= 24 :\n",
    "     if alamat == 'California' or alamat =='Detroit' or alamat=='Boston':\n",
    "        if uang_tabungan <1 :\n",
    "            pangkat ='capo'\n",
    "            \n",
    "if pangkat !='':    \n",
    "    print(f'{nama} kemungkinan seorang anggota black dick {pangkat}')\n",
    "else:\n",
    "    print(f'{nama} tidaj mencurigakan')"
   ]
  },
  {
   "cell_type": "code",
   "execution_count": null,
   "id": "6c0a3fb3",
   "metadata": {},
   "outputs": [],
   "source": []
  }
 ],
 "metadata": {
  "kernelspec": {
   "display_name": "Python 3 (ipykernel)",
   "language": "python",
   "name": "python3"
  },
  "language_info": {
   "codemirror_mode": {
    "name": "ipython",
    "version": 3
   },
   "file_extension": ".py",
   "mimetype": "text/x-python",
   "name": "python",
   "nbconvert_exporter": "python",
   "pygments_lexer": "ipython3",
   "version": "3.9.12"
  }
 },
 "nbformat": 4,
 "nbformat_minor": 5
}
